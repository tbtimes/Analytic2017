{
 "cells": [
  {
   "cell_type": "code",
   "execution_count": 134,
   "metadata": {
    "collapsed": false
   },
   "outputs": [],
   "source": [
    "import agate\n",
    "import agateexcel\n",
    "import datetime\n",
    "import re"
   ]
  },
  {
   "cell_type": "code",
   "execution_count": 152,
   "metadata": {
    "collapsed": false,
    "scrolled": true
   },
   "outputs": [
    {
     "name": "stdout",
     "output_type": "stream",
     "text": [
      "| column        | data_type |\n",
      "| ------------- | --------- |\n",
      "| dcrType       | Text      |\n",
      "| blogType      | Text      |\n",
      "| articleId     | Number    |\n",
      "| publishDate   | DateTime  |\n",
      "| sectionPath   | Text      |\n",
      "| storyKeywords | Text      |\n",
      "| webHeadline   | Text      |\n",
      "| collatedTags  | Text      |\n",
      "| origin        | Text      |\n",
      "\n"
     ]
    }
   ],
   "source": [
    "solrdump=agate.Table.from_xlsx('SOLR_Data1_original.xlsx')\n",
    "print(solrdump)"
   ]
  },
  {
   "cell_type": "code",
   "execution_count": null,
   "metadata": {
    "collapsed": false
   },
   "outputs": [],
   "source": []
  },
  {
   "cell_type": "code",
   "execution_count": 147,
   "metadata": {
    "collapsed": false
   },
   "outputs": [],
   "source": [
    "#GETTING THE PUSBLISH TIME DATA"
   ]
  },
  {
   "cell_type": "code",
   "execution_count": 154,
   "metadata": {
    "collapsed": false
   },
   "outputs": [],
   "source": [
    "with_publish_time_extracted=solrdump.compute([\n",
    "    ('publish_time', agate.Formula(agate.Number(), lambda row: row[3].time().hour))\n",
    "    \n",
    "])"
   ]
  },
  {
   "cell_type": "code",
   "execution_count": 155,
   "metadata": {
    "collapsed": true
   },
   "outputs": [],
   "source": [
    "by_publish_hour=with_publish_time_extracted.group_by('publish_time')"
   ]
  },
  {
   "cell_type": "code",
   "execution_count": 156,
   "metadata": {
    "collapsed": false,
    "scrolled": true
   },
   "outputs": [
    {
     "name": "stdout",
     "output_type": "stream",
     "text": [
      "| column       | data_type |\n",
      "| ------------ | --------- |\n",
      "| publish_time | Number    |\n",
      "| count        | Number    |\n",
      "\n",
      "| publish_time | count |\n",
      "| ------------ | ----- |\n",
      "|            0 |   729 |\n",
      "|            1 |   945 |\n",
      "|            2 |   795 |\n",
      "|            3 |   447 |\n",
      "|            4 |   246 |\n",
      "|          ... |   ... |\n"
     ]
    }
   ],
   "source": [
    "hour_totals=by_publish_hour.aggregate([\n",
    "    ('count',agate.Count())\n",
    "])\n",
    "print(hour_totals)\n",
    "sorted_hour_totals=hour_totals.order_by('publish_time')\n",
    "sorted_hour_totals.print_table(max_rows=5)"
   ]
  },
  {
   "cell_type": "code",
   "execution_count": 157,
   "metadata": {
    "collapsed": false,
    "scrolled": false
   },
   "outputs": [
    {
     "data": {
      "image/svg+xml": [
       "<svg height=\"600\" version=\"1.1\" width=\"800\" xmlns=\"http://www.w3.org/2000/svg\"><g><rect fill=\"#f9f9f9\" height=\"600\" width=\"800\" x=\"0\" y=\"0\"/><g transform=\"translate(40 40)\"><g transform=\"translate(70 0)\"/><g transform=\"translate(0 0)\"><g transform=\"translate(70 0)\"><g class=\"axis bottom\"><text dy=\"1em\" fill=\"#666\" font-family=\"Monaco\" text-anchor=\"middle\" transform=\"\" x=\"325.0\" y=\"506.0\">publish_time</text><g class=\"tick\"><line stroke=\"#eee\" stroke-width=\"1\" x1=\"216.6666666666666666666666666\" x2=\"216.6666666666666666666666666\" y1=\"0\" y2=\"472.0\"/><text dy=\"1em\" fill=\"#9c9c9c\" font-family=\"Monaco\" text-anchor=\"middle\" x=\"216.6666666666666666666666666\" y=\"476.0\">10</text></g><g class=\"tick\"><line stroke=\"#eee\" stroke-width=\"1\" x1=\"433.3333333333333333333333334\" x2=\"433.3333333333333333333333334\" y1=\"0\" y2=\"472.0\"/><text dy=\"1em\" fill=\"#9c9c9c\" font-family=\"Monaco\" text-anchor=\"middle\" x=\"433.3333333333333333333333334\" y=\"476.0\">20</text></g><g class=\"tick\"><line stroke=\"#eee\" stroke-width=\"1\" x1=\"650\" x2=\"650\" y1=\"0\" y2=\"472.0\"/><text dy=\"1em\" fill=\"#9c9c9c\" font-family=\"Monaco\" text-anchor=\"middle\" x=\"650\" y=\"476.0\">30</text></g><g class=\"tick\"><line stroke=\"#a8a8a8\" stroke-width=\"1\" x1=\"0\" x2=\"0\" y1=\"0\" y2=\"472.0\"/><text dy=\"1em\" fill=\"#9c9c9c\" font-family=\"Monaco\" text-anchor=\"middle\" x=\"0\" y=\"476.0\">0</text></g></g><g class=\"axis left\"><text dy=\"\" fill=\"#666\" font-family=\"Monaco\" text-anchor=\"middle\" transform=\"rotate(270 -48 234)\" x=\"-48\" y=\"234.0\">count</text><g class=\"tick\"><line stroke=\"#eee\" stroke-width=\"1\" x1=\"-4\" x2=\"650.0\" y1=\"312.0000000000000000000000000\" y2=\"312.0000000000000000000000000\"/><text dy=\"0.32em\" fill=\"#9c9c9c\" font-family=\"Monaco\" text-anchor=\"end\" x=\"-8\" y=\"312.0000000000000000000000000\">500</text></g><g class=\"tick\"><line stroke=\"#eee\" stroke-width=\"1\" x1=\"-4\" x2=\"650.0\" y1=\"156.0000000000000000000000000\" y2=\"156.0000000000000000000000000\"/><text dy=\"0.32em\" fill=\"#9c9c9c\" font-family=\"Monaco\" text-anchor=\"end\" x=\"-8\" y=\"156.0000000000000000000000000\">1000</text></g><g class=\"tick\"><line stroke=\"#eee\" stroke-width=\"1\" x1=\"-4\" x2=\"650.0\" y1=\"0\" y2=\"0\"/><text dy=\"0.32em\" fill=\"#9c9c9c\" font-family=\"Monaco\" text-anchor=\"end\" x=\"-8\" y=\"0\">1500</text></g><g class=\"tick\"><line stroke=\"#a8a8a8\" stroke-width=\"1\" x1=\"-4\" x2=\"650.0\" y1=\"468\" y2=\"468\"/><text dy=\"0.32em\" fill=\"#9c9c9c\" font-family=\"Monaco\" text-anchor=\"end\" x=\"-8\" y=\"468\">0</text></g></g><g><g class=\"series lines\"><path d=\"M 0 240.552 L 21.66666666666666666666666666 173.16 L 43.33333333333333333333333334 219.96 L 65.0 328.536 L 86.66666666666666666666666664 391.248 L 108.3333333333333333333333334 418.0800000000000000000000000 L 130.0 457.0800000000000000000000000 L 151.6666666666666666666666666 464.8800000000000000000000000 L 173.3333333333333333333333334 423.3840000000000000000000000 L 195.0 268.9440000000000000000000000 L 216.6666666666666666666666666 251.784 L 238.3333333333333333333333334 299.8320000000000000000000000 L 260.0 242.424 L 281.6666666666666666666666666 231.192 L 303.3333333333333333333333334 181.8960000000000000000000000 L 325.0 78.0000000000000000000000000 L 346.6666666666666666666666666 130.104 L 368.3333333333333333333333334 156.6240000000000000000000000 L 390.0 133.2240000000000000000000000 L 411.6666666666666666666666666 173.16 L 433.3333333333333333333333334 191.88 L 455.0 213.7200000000000000000000000 L 476.6666666666666666666666666 245.232 L 498.3333333333333333333333334 302.9520000000000000000000000\" fill=\"none\" stroke=\"#e41a1c\" stroke-width=\"2\"/></g></g></g></g></g></g></svg>"
      ],
      "text/plain": [
       "<IPython.core.display.SVG object>"
      ]
     },
     "execution_count": 157,
     "metadata": {},
     "output_type": "execute_result"
    }
   ],
   "source": [
    "sorted_hour_totals.line_chart('publish_time','count')"
   ]
  },
  {
   "cell_type": "code",
   "execution_count": 160,
   "metadata": {
    "collapsed": false
   },
   "outputs": [
    {
     "name": "stdout",
     "output_type": "stream",
     "text": [
      "| column        | data_type |\n",
      "| ------------- | --------- |\n",
      "| dcrType       | Text      |\n",
      "| blogType      | Text      |\n",
      "| articleId     | Number    |\n",
      "| publishDate   | DateTime  |\n",
      "| sectionPath   | Text      |\n",
      "| storyKeywords | Text      |\n",
      "| webHeadline   | Text      |\n",
      "| collatedTags  | Text      |\n",
      "| origin        | Text      |\n",
      "\n",
      "11\n"
     ]
    }
   ],
   "source": [
    "#Visualizing the Posts by Hour for each month\n",
    "print(solrdump)\n",
    "print(solrdump.rows[0][3].month)"
   ]
  },
  {
   "cell_type": "code",
   "execution_count": 281,
   "metadata": {
    "collapsed": false
   },
   "outputs": [],
   "source": [
    "#getting data for each month\n",
    "#post_type can be StaffArticle or BlogArticle \n",
    "import pytz\n",
    "import leather\n",
    "\n",
    "eastern = pytz.timezone('US/Eastern')\n",
    "\n",
    "def visualize_by_month(dataset, m, d, y, post_type):\n",
    "    monthly_data = dataset.where(lambda row: (datetime.datetime(y, m, 1).replace(tzinfo=row['publishDate'].tzinfo)\n",
    "                           <= row['publishDate'] \n",
    "                           <= datetime.datetime(y, m, d).replace(tzinfo=row['publishDate'].tzinfo))\n",
    "                           and row['dcrType']==post_type)\n",
    "    \n",
    "#     monthly_data=dataset.where(lambda row: row[3].month==m and row[3].year==y and row[0]==post_type )\n",
    "    \n",
    "    added_publish_time=monthly_data.compute([\n",
    "    ('publish_time', agate.Formula(agate.Number(), lambda row: row['publishDate'].time().hour + 20\n",
    "                                   if row['publishDate'].time().hour - 4 < 0 \n",
    "                                   else row['publishDate'].time().hour - 4))\n",
    "    \n",
    "])\n",
    "    grouped_by_publish_time=added_publish_time.group_by('publish_time')\n",
    "    hour_totals=grouped_by_publish_time.aggregate([\n",
    "        ('count',agate.Count())\n",
    "        ])\n",
    "    sorted_hour_totals=hour_totals.order_by('publish_time')\n",
    "    \n",
    "    chart = leather.Chart('Stories posted in month by hour')\n",
    "    chart.add_y_axis(name='Number of stories')\n",
    "    chart.add_x_axis(name='Hour posted', ticks=range(0,24))\n",
    "    chart.add_x_scale(0, 24)\n",
    "    chart.add_line(sorted_hour_totals, x='publish_time', y='count')\n",
    "\n",
    "    return chart.to_svg()\n"
   ]
  },
  {
   "cell_type": "code",
   "execution_count": 282,
   "metadata": {
    "collapsed": false
   },
   "outputs": [
    {
     "data": {
      "image/svg+xml": [
       "<svg height=\"600\" version=\"1.1\" width=\"800\" xmlns=\"http://www.w3.org/2000/svg\"><g><rect fill=\"#f9f9f9\" height=\"600\" width=\"800\" x=\"0\" y=\"0\"/><g transform=\"translate(40 40)\"><g transform=\"translate(62 0)\"><text fill=\"#333\" font-family=\"Monaco\" font-size=\"16\" x=\"0\" y=\"0\">Stories posted in month by hour</text></g><g transform=\"translate(0 20)\"><g transform=\"translate(62 0)\"><g class=\"axis bottom\"><text dy=\"1em\" fill=\"#666\" font-family=\"Monaco\" text-anchor=\"middle\" transform=\"\" x=\"329.0\" y=\"486.0\">Hour posted</text><g class=\"tick\"><line stroke=\"#eee\" stroke-width=\"1\" x1=\"21.93333333333333333333333333\" x2=\"21.93333333333333333333333333\" y1=\"0\" y2=\"452.0\"/><text dy=\"1em\" fill=\"#9c9c9c\" font-family=\"Monaco\" text-anchor=\"middle\" x=\"21.93333333333333333333333333\" y=\"456.0\">1</text></g><g class=\"tick\"><line stroke=\"#eee\" stroke-width=\"1\" x1=\"43.86666666666666666666666667\" x2=\"43.86666666666666666666666667\" y1=\"0\" y2=\"452.0\"/><text dy=\"1em\" fill=\"#9c9c9c\" font-family=\"Monaco\" text-anchor=\"middle\" x=\"43.86666666666666666666666667\" y=\"456.0\">2</text></g><g class=\"tick\"><line stroke=\"#eee\" stroke-width=\"1\" x1=\"65.8\" x2=\"65.8\" y1=\"0\" y2=\"452.0\"/><text dy=\"1em\" fill=\"#9c9c9c\" font-family=\"Monaco\" text-anchor=\"middle\" x=\"65.8\" y=\"456.0\">3</text></g><g class=\"tick\"><line stroke=\"#eee\" stroke-width=\"1\" x1=\"87.73333333333333333333333331\" x2=\"87.73333333333333333333333331\" y1=\"0\" y2=\"452.0\"/><text dy=\"1em\" fill=\"#9c9c9c\" font-family=\"Monaco\" text-anchor=\"middle\" x=\"87.73333333333333333333333331\" y=\"456.0\">4</text></g><g class=\"tick\"><line stroke=\"#eee\" stroke-width=\"1\" x1=\"109.6666666666666666666666667\" x2=\"109.6666666666666666666666667\" y1=\"0\" y2=\"452.0\"/><text dy=\"1em\" fill=\"#9c9c9c\" font-family=\"Monaco\" text-anchor=\"middle\" x=\"109.6666666666666666666666667\" y=\"456.0\">5</text></g><g class=\"tick\"><line stroke=\"#eee\" stroke-width=\"1\" x1=\"131.6\" x2=\"131.6\" y1=\"0\" y2=\"452.0\"/><text dy=\"1em\" fill=\"#9c9c9c\" font-family=\"Monaco\" text-anchor=\"middle\" x=\"131.6\" y=\"456.0\">6</text></g><g class=\"tick\"><line stroke=\"#eee\" stroke-width=\"1\" x1=\"153.5333333333333333333333333\" x2=\"153.5333333333333333333333333\" y1=\"0\" y2=\"452.0\"/><text dy=\"1em\" fill=\"#9c9c9c\" font-family=\"Monaco\" text-anchor=\"middle\" x=\"153.5333333333333333333333333\" y=\"456.0\">7</text></g><g class=\"tick\"><line stroke=\"#eee\" stroke-width=\"1\" x1=\"175.4666666666666666666666667\" x2=\"175.4666666666666666666666667\" y1=\"0\" y2=\"452.0\"/><text dy=\"1em\" fill=\"#9c9c9c\" font-family=\"Monaco\" text-anchor=\"middle\" x=\"175.4666666666666666666666667\" y=\"456.0\">8</text></g><g class=\"tick\"><line stroke=\"#eee\" stroke-width=\"1\" x1=\"197.4\" x2=\"197.4\" y1=\"0\" y2=\"452.0\"/><text dy=\"1em\" fill=\"#9c9c9c\" font-family=\"Monaco\" text-anchor=\"middle\" x=\"197.4\" y=\"456.0\">9</text></g><g class=\"tick\"><line stroke=\"#eee\" stroke-width=\"1\" x1=\"219.3333333333333333333333333\" x2=\"219.3333333333333333333333333\" y1=\"0\" y2=\"452.0\"/><text dy=\"1em\" fill=\"#9c9c9c\" font-family=\"Monaco\" text-anchor=\"middle\" x=\"219.3333333333333333333333333\" y=\"456.0\">10</text></g><g class=\"tick\"><line stroke=\"#eee\" stroke-width=\"1\" x1=\"241.2666666666666666666666667\" x2=\"241.2666666666666666666666667\" y1=\"0\" y2=\"452.0\"/><text dy=\"1em\" fill=\"#9c9c9c\" font-family=\"Monaco\" text-anchor=\"middle\" x=\"241.2666666666666666666666667\" y=\"456.0\">11</text></g><g class=\"tick\"><line stroke=\"#eee\" stroke-width=\"1\" x1=\"263.2\" x2=\"263.2\" y1=\"0\" y2=\"452.0\"/><text dy=\"1em\" fill=\"#9c9c9c\" font-family=\"Monaco\" text-anchor=\"middle\" x=\"263.2\" y=\"456.0\">12</text></g><g class=\"tick\"><line stroke=\"#eee\" stroke-width=\"1\" x1=\"285.1333333333333333333333333\" x2=\"285.1333333333333333333333333\" y1=\"0\" y2=\"452.0\"/><text dy=\"1em\" fill=\"#9c9c9c\" font-family=\"Monaco\" text-anchor=\"middle\" x=\"285.1333333333333333333333333\" y=\"456.0\">13</text></g><g class=\"tick\"><line stroke=\"#eee\" stroke-width=\"1\" x1=\"307.0666666666666666666666667\" x2=\"307.0666666666666666666666667\" y1=\"0\" y2=\"452.0\"/><text dy=\"1em\" fill=\"#9c9c9c\" font-family=\"Monaco\" text-anchor=\"middle\" x=\"307.0666666666666666666666667\" y=\"456.0\">14</text></g><g class=\"tick\"><line stroke=\"#eee\" stroke-width=\"1\" x1=\"329.0\" x2=\"329.0\" y1=\"0\" y2=\"452.0\"/><text dy=\"1em\" fill=\"#9c9c9c\" font-family=\"Monaco\" text-anchor=\"middle\" x=\"329.0\" y=\"456.0\">15</text></g><g class=\"tick\"><line stroke=\"#eee\" stroke-width=\"1\" x1=\"350.9333333333333333333333333\" x2=\"350.9333333333333333333333333\" y1=\"0\" y2=\"452.0\"/><text dy=\"1em\" fill=\"#9c9c9c\" font-family=\"Monaco\" text-anchor=\"middle\" x=\"350.9333333333333333333333333\" y=\"456.0\">16</text></g><g class=\"tick\"><line stroke=\"#eee\" stroke-width=\"1\" x1=\"372.8666666666666666666666667\" x2=\"372.8666666666666666666666667\" y1=\"0\" y2=\"452.0\"/><text dy=\"1em\" fill=\"#9c9c9c\" font-family=\"Monaco\" text-anchor=\"middle\" x=\"372.8666666666666666666666667\" y=\"456.0\">17</text></g><g class=\"tick\"><line stroke=\"#eee\" stroke-width=\"1\" x1=\"394.8\" x2=\"394.8\" y1=\"0\" y2=\"452.0\"/><text dy=\"1em\" fill=\"#9c9c9c\" font-family=\"Monaco\" text-anchor=\"middle\" x=\"394.8\" y=\"456.0\">18</text></g><g class=\"tick\"><line stroke=\"#eee\" stroke-width=\"1\" x1=\"416.7333333333333333333333333\" x2=\"416.7333333333333333333333333\" y1=\"0\" y2=\"452.0\"/><text dy=\"1em\" fill=\"#9c9c9c\" font-family=\"Monaco\" text-anchor=\"middle\" x=\"416.7333333333333333333333333\" y=\"456.0\">19</text></g><g class=\"tick\"><line stroke=\"#eee\" stroke-width=\"1\" x1=\"438.6666666666666666666666667\" x2=\"438.6666666666666666666666667\" y1=\"0\" y2=\"452.0\"/><text dy=\"1em\" fill=\"#9c9c9c\" font-family=\"Monaco\" text-anchor=\"middle\" x=\"438.6666666666666666666666667\" y=\"456.0\">20</text></g><g class=\"tick\"><line stroke=\"#eee\" stroke-width=\"1\" x1=\"460.6\" x2=\"460.6\" y1=\"0\" y2=\"452.0\"/><text dy=\"1em\" fill=\"#9c9c9c\" font-family=\"Monaco\" text-anchor=\"middle\" x=\"460.6\" y=\"456.0\">21</text></g><g class=\"tick\"><line stroke=\"#eee\" stroke-width=\"1\" x1=\"482.5333333333333333333333333\" x2=\"482.5333333333333333333333333\" y1=\"0\" y2=\"452.0\"/><text dy=\"1em\" fill=\"#9c9c9c\" font-family=\"Monaco\" text-anchor=\"middle\" x=\"482.5333333333333333333333333\" y=\"456.0\">22</text></g><g class=\"tick\"><line stroke=\"#eee\" stroke-width=\"1\" x1=\"504.4666666666666666666666667\" x2=\"504.4666666666666666666666667\" y1=\"0\" y2=\"452.0\"/><text dy=\"1em\" fill=\"#9c9c9c\" font-family=\"Monaco\" text-anchor=\"middle\" x=\"504.4666666666666666666666667\" y=\"456.0\">23</text></g><g class=\"tick\"><line stroke=\"#a8a8a8\" stroke-width=\"1\" x1=\"0\" x2=\"0\" y1=\"0\" y2=\"452.0\"/><text dy=\"1em\" fill=\"#9c9c9c\" font-family=\"Monaco\" text-anchor=\"middle\" x=\"0\" y=\"456.0\">0</text></g></g><g class=\"axis left\"><text dy=\"\" fill=\"#666\" font-family=\"Monaco\" text-anchor=\"middle\" transform=\"rotate(270 -40 224)\" x=\"-40\" y=\"224.0\">Number of stories</text><g class=\"tick\"><line stroke=\"#eee\" stroke-width=\"1\" x1=\"-4\" x2=\"658.0\" y1=\"298.6666666666666666666666667\" y2=\"298.6666666666666666666666667\"/><text dy=\"0.32em\" fill=\"#9c9c9c\" font-family=\"Monaco\" text-anchor=\"end\" x=\"-8\" y=\"298.6666666666666666666666667\">100</text></g><g class=\"tick\"><line stroke=\"#eee\" stroke-width=\"1\" x1=\"-4\" x2=\"658.0\" y1=\"149.3333333333333333333333333\" y2=\"149.3333333333333333333333333\"/><text dy=\"0.32em\" fill=\"#9c9c9c\" font-family=\"Monaco\" text-anchor=\"end\" x=\"-8\" y=\"149.3333333333333333333333333\">200</text></g><g class=\"tick\"><line stroke=\"#eee\" stroke-width=\"1\" x1=\"-4\" x2=\"658.0\" y1=\"0\" y2=\"0\"/><text dy=\"0.32em\" fill=\"#9c9c9c\" font-family=\"Monaco\" text-anchor=\"end\" x=\"-8\" y=\"0\">300</text></g><g class=\"tick\"><line stroke=\"#a8a8a8\" stroke-width=\"1\" x1=\"-4\" x2=\"658.0\" y1=\"448\" y2=\"448\"/><text dy=\"0.32em\" fill=\"#9c9c9c\" font-family=\"Monaco\" text-anchor=\"end\" x=\"-8\" y=\"448\">0</text></g></g><g><g class=\"series lines\"><path d=\"M 0 358.4 L 21.93333333333333333333333333 356.9066666666666666666666667 L 43.86666666666666666666666667 428.5866666666666666666666667 L 87.73333333333333333333333331 446.5066666666666666666666667 L 109.6666666666666666666666667 439.04 L 131.6 185.1733333333333333333333333 L 153.5333333333333333333333333 337.4933333333333333333333333 L 175.4666666666666666666666667 340.48 L 197.4 247.8933333333333333333333333 L 219.3333333333333333333333333 362.88 L 241.2666666666666666666666667 262.8266666666666666666666667 L 263.2 134.4 L 285.1333333333333333333333333 268.8 L 307.0666666666666666666666667 280.7466666666666666666666667 L 329.0 280.7466666666666666666666667 L 350.9333333333333333333333333 259.84 L 372.8666666666666666666666667 250.88 L 394.8 247.8933333333333333333333333 L 416.7333333333333333333333333 318.08 L 438.6666666666666666666666667 344.96 L 460.6 238.9333333333333333333333333 L 482.5333333333333333333333333 179.2 L 504.4666666666666666666666667 291.20\" fill=\"none\" stroke=\"#e41a1c\" stroke-width=\"2\"/></g></g></g></g></g></g></svg>"
      ],
      "text/plain": [
       "<IPython.core.display.SVG object>"
      ]
     },
     "execution_count": 282,
     "metadata": {},
     "output_type": "execute_result"
    }
   ],
   "source": [
    "visualize_by_month(solrdump, 2, 28, 2017, \"StaffArticle\")"
   ]
  },
  {
   "cell_type": "code",
   "execution_count": null,
   "metadata": {
    "collapsed": false
   },
   "outputs": [],
   "source": []
  },
  {
   "cell_type": "code",
   "execution_count": null,
   "metadata": {
    "collapsed": false
   },
   "outputs": [],
   "source": []
  },
  {
   "cell_type": "code",
   "execution_count": null,
   "metadata": {
    "collapsed": true
   },
   "outputs": [],
   "source": []
  }
 ],
 "metadata": {
  "kernelspec": {
   "display_name": "Python 3",
   "language": "python",
   "name": "python3"
  },
  "language_info": {
   "codemirror_mode": {
    "name": "ipython",
    "version": 3
   },
   "file_extension": ".py",
   "mimetype": "text/x-python",
   "name": "python",
   "nbconvert_exporter": "python",
   "pygments_lexer": "ipython3",
   "version": "3.6.0"
  }
 },
 "nbformat": 4,
 "nbformat_minor": 2
}
