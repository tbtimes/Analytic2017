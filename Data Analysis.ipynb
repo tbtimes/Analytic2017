{
 "cells": [
  {
   "cell_type": "code",
   "execution_count": 9,
   "metadata": {
    "collapsed": true
   },
   "outputs": [],
   "source": [
    "import pandas as pd\n",
    "import numpy as np\n",
    "import matplotlib.pyplot as plt"
   ]
  },
  {
   "cell_type": "code",
   "execution_count": 11,
   "metadata": {
    "collapsed": true
   },
   "outputs": [],
   "source": [
    "import matplotlib\n",
    "matplotlib.style.use('ggplot')\n",
    "%matplotlib inline"
   ]
  },
  {
   "cell_type": "code",
   "execution_count": 4,
   "metadata": {
    "collapsed": false,
    "scrolled": true
   },
   "outputs": [
    {
     "data": {
      "text/html": [
       "<div>\n",
       "<table border=\"1\" class=\"dataframe\">\n",
       "  <thead>\n",
       "    <tr style=\"text-align: right;\">\n",
       "      <th></th>\n",
       "      <th>dcrType</th>\n",
       "      <th>article_id</th>\n",
       "      <th>byline</th>\n",
       "      <th>seo_url</th>\n",
       "      <th>sectionPath</th>\n",
       "      <th>storyKeywords</th>\n",
       "      <th>blogType</th>\n",
       "      <th>webHeadline</th>\n",
       "      <th>publishDate</th>\n",
       "      <th>pageView</th>\n",
       "      <th>cleaned_byline</th>\n",
       "    </tr>\n",
       "  </thead>\n",
       "  <tbody>\n",
       "    <tr>\n",
       "      <th>0</th>\n",
       "      <td>BlogArticle</td>\n",
       "      <td>2259722</td>\n",
       "      <td>Joey Knight</td>\n",
       "      <td>florida-winless-in-bowls-for-first-time-since-...</td>\n",
       "      <td>NaN</td>\n",
       "      <td>latest sports, Citrus, Florida, Michigan, USF</td>\n",
       "      <td>bulls</td>\n",
       "      <td>Florida winless in bowls for first time since ...</td>\n",
       "      <td>2016-01-01T23:34:49+00:00</td>\n",
       "      <td>69</td>\n",
       "      <td>JOEY KNIGHT</td>\n",
       "    </tr>\n",
       "    <tr>\n",
       "      <th>1</th>\n",
       "      <td>BlogArticle</td>\n",
       "      <td>2259937</td>\n",
       "      <td>Joey Knight</td>\n",
       "      <td>sun-dome-to-host-rare-top-25-matchup-sunday</td>\n",
       "      <td>NaN</td>\n",
       "      <td>USF, UConn, women's, Associated Press, Sun Dome</td>\n",
       "      <td>bulls</td>\n",
       "      <td>Sun Dome to host rare top-25 matchup Sunday</td>\n",
       "      <td>2016-01-04T19:41:45+00:00</td>\n",
       "      <td>41</td>\n",
       "      <td>JOEY KNIGHT</td>\n",
       "    </tr>\n",
       "    <tr>\n",
       "      <th>2</th>\n",
       "      <td>BlogArticle</td>\n",
       "      <td>2259956</td>\n",
       "      <td>Joey Knight</td>\n",
       "      <td>thirty-days-out-bulls-2016-class-taking-solid-...</td>\n",
       "      <td>NaN</td>\n",
       "      <td>USF, Willie Taggart, Shavar Manuel, Romeo Finl...</td>\n",
       "      <td>bulls</td>\n",
       "      <td>Thirty days out, Bulls' 2016 class taking soli...</td>\n",
       "      <td>2016-01-04T21:38:41+00:00</td>\n",
       "      <td>367</td>\n",
       "      <td>JOEY KNIGHT</td>\n",
       "    </tr>\n",
       "    <tr>\n",
       "      <th>3</th>\n",
       "      <td>BlogArticle</td>\n",
       "      <td>2260089</td>\n",
       "      <td>Joey Knight</td>\n",
       "      <td>bulls-brace-for-ucfs-fall-guy</td>\n",
       "      <td>NaN</td>\n",
       "      <td>USF, Tacko Fall, Orlando Antigua, Jahmal McMurray</td>\n",
       "      <td>bulls</td>\n",
       "      <td>Bulls brace for UCF's Fall guy</td>\n",
       "      <td>2016-01-05T22:25:59+00:00</td>\n",
       "      <td>113</td>\n",
       "      <td>JOEY KNIGHT</td>\n",
       "    </tr>\n",
       "    <tr>\n",
       "      <th>4</th>\n",
       "      <td>BlogArticle</td>\n",
       "      <td>2260437</td>\n",
       "      <td>Joey Knight</td>\n",
       "      <td>nba-wnba-executives-set-for-usf-lecture-series</td>\n",
       "      <td>NaN</td>\n",
       "      <td>USF, lecture series, Scott O'Neil, Donna Orender</td>\n",
       "      <td>bulls</td>\n",
       "      <td>NBA, WNBA executives set for USF lecture series</td>\n",
       "      <td>2016-01-07T19:58:06+00:00</td>\n",
       "      <td>183</td>\n",
       "      <td>JOEY KNIGHT</td>\n",
       "    </tr>\n",
       "  </tbody>\n",
       "</table>\n",
       "</div>"
      ],
      "text/plain": [
       "       dcrType  article_id       byline  \\\n",
       "0  BlogArticle     2259722  Joey Knight   \n",
       "1  BlogArticle     2259937  Joey Knight   \n",
       "2  BlogArticle     2259956  Joey Knight   \n",
       "3  BlogArticle     2260089  Joey Knight   \n",
       "4  BlogArticle     2260437  Joey Knight   \n",
       "\n",
       "                                             seo_url sectionPath  \\\n",
       "0  florida-winless-in-bowls-for-first-time-since-...         NaN   \n",
       "1        sun-dome-to-host-rare-top-25-matchup-sunday         NaN   \n",
       "2  thirty-days-out-bulls-2016-class-taking-solid-...         NaN   \n",
       "3                      bulls-brace-for-ucfs-fall-guy         NaN   \n",
       "4     nba-wnba-executives-set-for-usf-lecture-series         NaN   \n",
       "\n",
       "                                       storyKeywords blogType  \\\n",
       "0      latest sports, Citrus, Florida, Michigan, USF    bulls   \n",
       "1    USF, UConn, women's, Associated Press, Sun Dome    bulls   \n",
       "2  USF, Willie Taggart, Shavar Manuel, Romeo Finl...    bulls   \n",
       "3  USF, Tacko Fall, Orlando Antigua, Jahmal McMurray    bulls   \n",
       "4   USF, lecture series, Scott O'Neil, Donna Orender    bulls   \n",
       "\n",
       "                                         webHeadline  \\\n",
       "0  Florida winless in bowls for first time since ...   \n",
       "1        Sun Dome to host rare top-25 matchup Sunday   \n",
       "2  Thirty days out, Bulls' 2016 class taking soli...   \n",
       "3                     Bulls brace for UCF's Fall guy   \n",
       "4    NBA, WNBA executives set for USF lecture series   \n",
       "\n",
       "                 publishDate  pageView cleaned_byline  \n",
       "0  2016-01-01T23:34:49+00:00        69    JOEY KNIGHT  \n",
       "1  2016-01-04T19:41:45+00:00        41    JOEY KNIGHT  \n",
       "2  2016-01-04T21:38:41+00:00       367    JOEY KNIGHT  \n",
       "3  2016-01-05T22:25:59+00:00       113    JOEY KNIGHT  \n",
       "4  2016-01-07T19:58:06+00:00       183    JOEY KNIGHT  "
      ]
     },
     "execution_count": 4,
     "metadata": {},
     "output_type": "execute_result"
    }
   ],
   "source": [
    "original_data=pd.read_csv(\"Analytics_Author_Cleaned.csv\")\n",
    "original_data.head()"
   ]
  },
  {
   "cell_type": "code",
   "execution_count": null,
   "metadata": {
    "collapsed": true
   },
   "outputs": [],
   "source": [
    "# OVERVIEW OF PAGEVIEWS FOR ALL ARTICLES"
   ]
  },
  {
   "cell_type": "code",
   "execution_count": 20,
   "metadata": {
    "collapsed": false
   },
   "outputs": [],
   "source": [
    "original_sorted_by_pageView = original_data.sort_values(by=('pageView'), ascending=False)\n",
    "times_produced_only = original_sorted_by_pageView[original_sorted_by_pageView['cleaned_byline'] != None]\n",
    "times_produced_only.index=times_produced_only.index.astype(str)"
   ]
  },
  {
   "cell_type": "code",
   "execution_count": 21,
   "metadata": {
    "collapsed": false,
    "scrolled": true
   },
   "outputs": [
    {
     "data": {
      "text/plain": [
       "<matplotlib.axes._subplots.AxesSubplot at 0x19e0273c8>"
      ]
     },
     "execution_count": 21,
     "metadata": {},
     "output_type": "execute_result"
    },
    {
     "data": {
      "image/png": "[encoded data removed]",
      "text/plain": [
       "<matplotlib.figure.Figure at 0x168c6d550>"
      ]
     },
     "metadata": {},
     "output_type": "display_data"
    }
   ],
   "source": [
    "times_produced_only.plot.line(x=None, y=(\"pageView\"))\n"
   ]
  },
  {
   "cell_type": "code",
   "execution_count": null,
   "metadata": {
    "collapsed": true
   },
   "outputs": [],
   "source": [
    "\n"
   ]
  }
 ],
 "metadata": {
  "kernelspec": {
   "display_name": "Python 3",
   "language": "python",
   "name": "python3"
  },
  "language_info": {
   "codemirror_mode": {
    "name": "ipython",
    "version": 3
   },
   "file_extension": ".py",
   "mimetype": "text/x-python",
   "name": "python",
   "nbconvert_exporter": "python",
   "pygments_lexer": "ipython3",
   "version": "3.6.0"
  }
 },
 "nbformat": 4,
 "nbformat_minor": 2
}
