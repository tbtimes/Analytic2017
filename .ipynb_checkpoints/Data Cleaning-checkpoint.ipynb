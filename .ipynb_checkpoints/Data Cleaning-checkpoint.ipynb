{
 "cells": [
  {
   "cell_type": "markdown",
   "metadata": {
    "collapsed": false
   },
   "source": [
    "## Data Cleaning"
   ]
  },
  {
   "cell_type": "code",
   "execution_count": 1,
   "metadata": {
    "collapsed": false
   },
   "outputs": [],
   "source": [
    "import agate\n",
    "import re"
   ]
  },
  {
   "cell_type": "code",
   "execution_count": 2,
   "metadata": {
    "collapsed": false
   },
   "outputs": [],
   "source": [
    "original_data=agate.Table.from_csv(\"Joined_0815.csv\",encoding = \"ISO-8859-1\")\n",
    "# pd.read_csv(\"Hits_PublishDate_Joined_pivoted.csv\")"
   ]
  },
  {
   "cell_type": "code",
   "execution_count": 30,
   "metadata": {
    "collapsed": false
   },
   "outputs": [],
   "source": [
    "original_byline=original_data.columns['byline']\n"
   ]
  },
  {
   "cell_type": "markdown",
   "metadata": {},
   "source": [
    "Define function to clean each row\n",
    "\n",
    "WARNING:This cleaning script tries to clear all entries that are 1) not produced by TBT staff 2) produced by TBT staff but does not give specific attribution to a anthor/authors."
   ]
  },
  {
   "cell_type": "code",
   "execution_count": 110,
   "metadata": {
    "collapsed": false
   },
   "outputs": [],
   "source": [
    "def cleanByline(row):\n",
    "    \n",
    "    replacement= [('COMPILED BY ', ''),\n",
    "                  ('EDITED BY ', ''),\n",
    "                  ('BY ', ''),\n",
    "                  ('BY:', ''),\n",
    "                  (', TAMPA BAY TIMES', ''),\n",
    "                  ('<P></P>', ', '),\n",
    "                  ('<BR /><BR />', ', '),\n",
    "                  (', POLITIFACT FLORIDA', ''),\n",
    "                  (',POLITIFACT FLORIDA', ''),\n",
    "                  (', TIMES STAFF COLUMNIST', ''),\n",
    "                  (',TIMES STAFF COLUMNIST', ''),\n",
    "                  (', TIMES STAFF WRITERS', ''),\n",
    "                  (',TIMES STAFF WRITERS', ''),\n",
    "                  (', TIMES STAFF WRITER', ''),\n",
    "                  (',TIMES STAFF WRITER', ''),\n",
    "                  (', TIMES STAFF', ''),\n",
    "                  (',TIMES STAFF', ''),\n",
    "                  (', STAFF PHOTOGRAPHER', ''),\n",
    "                  (',STAFF PHOTOGRAPHER', ''),\n",
    "                  (' EDITED', ''),\n",
    "                  (', SPECIAL TO THE TIMES', ''),\n",
    "                  ('SPECIAL TO THE TIMES', ''),\n",
    "                  (', SPECIAL TO THE TAMPA BAY TIMES', ''),\n",
    "                  (', TIMES ARTS, ENTERTAINMENT EDITOR', ''),\n",
    "                  (', TIMES POP MUSIC/CULTURE CRITIC', ''),\n",
    "                  (', TIMES WASHINGTON BUREAU CHIEF', ''),\n",
    "                  (', TIMES/HERALD TALLAHASSEE BUREAU', ''),\n",
    "                  (', TALLAHASSEE BUREAU CHIEF', ''),\n",
    "                  (', TIMES MOVIE CRITIC', ''),\n",
    "                  (', TIMES FOOD CRITIC', ''),\n",
    "                  (', TIMES ART CRITIC', ''),\n",
    "                  \n",
    "                  (', TIMES ARTS', ''),\n",
    "                  (', TIMES PERFORMING ARTS CRITIC', ''), \n",
    "                  (', Times Pop Music/Culture Critic', ''), \n",
    "                  (', TIMES BUSINESS COLUMNIST', ''),\n",
    "                  (', TIMES COLUMNIST', ''),\n",
    "                  (', TIMES SPORTS COLUMNIST', ''),\n",
    "                  (' AND ', ', '),\n",
    "                  ('JEFFREY SOLOCHECK', 'JEFFREY S. SOLOCHECK'),\n",
    "                  ('ADAM SMITH', 'ADAM C. SMITH'), \n",
    "                  ('ADAM C.SMITH', 'ADAM C. SMITH'),\n",
    "                  (\"PAUL GUZZO TIMES STAFF WRITER\", \"PAUL GUZZO\"),\n",
    "                  (\"CHRIS LEMUS. TIMES CORRESPONDEN\", \"CHRIS LEMUS\" ),\n",
    "                (\"TONY MARRERO TIMES STAFF WRITERS\", \"TONY MARRERO\"),\n",
    "                (\"C.T. BOWEN. TIMES STAFF WRITER\",\"C.T. BOWEN\"),\n",
    "                (\"SCOTT KEELER TAMPA BAY TIMES\", \"SCOTT KEELER\"),\n",
    "                (\"ARIANA FIGUEROA TIMES STAFF WRITER\", \"ARIANA FIGUEROA\"),\n",
    "                ( \"DAN DEWITT TIMES STAFF WRITER\",\"DAN DEWITT\"),\n",
    "                ( \"DAN DEWITT. TIMES STAFF WRITER\", \"DAN DEWITT\"),\n",
    "                ( \"MAGGIE DUFFY. TIMES STAFF WRITER\", \"MAGGIE DUFFY\"),\n",
    "                ( \"GEORGE LEMIEUX. TIMES CORRESPONDEN\", \"GEORGE LEMIEUX\"),\n",
    "                ( \"SARA DINATALE TIMES STAFF WRITER\", \"SARA DINATALE\"),\n",
    "                (\"JEAN HAMILTON TIMES\", \"JEAN HAMILTON\"),\n",
    "                (\"SUSAN TAYLOR MARTIN TIMES SENIOR CORRESPONDEN\", \"SUSAN TAYLOR MARTIN\"),\n",
    "                 (\"JEFFREY S.SOLOCHEK\", 'JEFFREY S. SOLOCHEK'), \n",
    "                 (\"JEFFREY SOLOCHECK\", \"JEFFREY S. SOLOCHEK\"), \n",
    "                 (\"MAGGIE DUFFY. TIMES STAFF WRITER\", \"MAGGIE DUFFY\"), \n",
    "                 (\"SARA DINATALE TIMES STAFF WRITER\", \"SARA DINATALE\"), \n",
    "                 (\"LARUA C. MOREL\", \"LAURA C. MOREL\"),\n",
    "                 (\"LAURA MOREL\", \"LAURA C. MOREL\"), \n",
    "                 (\"MARKE PUENTE\", \"MARK PUENTE\"), \n",
    "                 (\"ROGERS MOONEY\", \"ROGER MOONEY\"),\n",
    "                 (\"PHIL MORGAN\", \"PHILIP MORGAN\")]\n",
    "    \n",
    "    entries_to_delete = (\"A CHICAGO TRIBUNE EDITORIA\",\n",
    "                        \"POST-GAZETTE\",\n",
    "                         \"THE PALM BEACH POST\",\n",
    "                         \"A SACRAMENTO BEE EDITORIA\",\n",
    "                        \"AP ENTERTAINMENT WRITER\", \n",
    "                         \"AP TELEVISION WRITER\", \n",
    "                         \"AP TELEVISION WRITER\", \n",
    "                         \"AP ECONOMICS WRITER\", \n",
    "                         \"AP TECHNOLOGY REPORTER\",\n",
    "                         \"AP FOOD INDUSTRY WRITER\",\n",
    "                         \"AP MEDICAL WRITER\",\n",
    "                         \"AP BUSINESS WRITER\",\n",
    "                         \"10WEATHER WTSP\",\n",
    "                         \"10NEWS WTSP\",\n",
    "                        \"TNS\", \n",
    "                         \"PHILADELPHIA INQUIRER\",\n",
    "                         \"AP GLOBAL SOCCER WRITER\",\n",
    "                         \"DALLAS MORNING NEWS\",\n",
    "                         \"THE PHILADELPHIA INQUIRER\",\n",
    "                         \"EDITORIA\",\n",
    "                         \"TRIBUNE NEWS SERVICE\",\n",
    "                         \"MERCURY NEWS\",\n",
    "                         \"CHICAGO TRIBUNE\",\n",
    "                        \"LOS ANGELES TIMES\", \n",
    "                        \"WASHINGTON POST\",\n",
    "                         \"THE SLATE GROUP\",\n",
    "                         \"SPECIAL TO THE WASHINGTON POST\", \n",
    "                         \"THE MARTGAGE PROFESSOR\",\n",
    "                        \"SLATE.COM\",\n",
    "                         \"SLATE\",\n",
    "                         \"SEATTLE TIMES\",\n",
    "                        \"ORLANDO SENTINEL\",\n",
    "                        \"KAISER HEALTH NEWS\", \n",
    "                        \"ASSOCIATED PRESS\", \n",
    "                        \"WASHINGTON POST\", \n",
    "                        \"MIAMI HERALD\",\n",
    "                         \"ATLANTA JOURNAL-CONSTITUTION\",\n",
    "                        \"NEW YORK TIMES\", \n",
    "                        \"WIRES\",\n",
    "                        \"PLANT CITY TIMES & OBSERVER\")\n",
    "    entries_to_strip = (\"BUREAU\",\n",
    "                       \"CRITIC\",\n",
    "                        \"TAMPA BAY TIMES\",\n",
    "                        \"TIMES STAFF PHOTOGRAPHER\"\n",
    "                       \"COLUMNIST\", \n",
    "                       \"CORRESP\", \n",
    "                       \"EDITOR\",\n",
    "                       \"TBT\")\n",
    "\n",
    " \n",
    "             \n",
    "    if row['byline'] != None:\n",
    "        cleaned =row['byline'].upper()\n",
    "        for k, v in replacement: \n",
    "            cleaned = cleaned. replace(k, v)\n",
    "        for el in entries_to_delete: \n",
    "            if (cleaned != None) and (el in cleaned): \n",
    "                cleaned = None \n",
    "        if cleaned != None:\n",
    "            if \"COLUMNIST\" in cleaned: \n",
    "                slice_end=cleaned.rfind(',')\n",
    "                cleaned=cleaned[:slice_end]\n",
    "            if \"CORRESP\" in cleaned:  \n",
    "                #NOT SPELLING THE WHOLE WORD OUT CUZ SOME WORDS IN FILE ARE MISSPELLED               \n",
    "                slice_end=cleaned.rfind(',')\n",
    "                cleaned=cleaned[:slice_end]\n",
    "            if \"EDITOR\" in cleaned: \n",
    "                slice_end=cleaned.rfind(',')\n",
    "                cleaned=cleaned[:slice_end]\n",
    "            if \"TBT\" in cleaned: \n",
    "                slice_end=cleaned.rfind(',')\n",
    "                cleaned=cleaned[:slice_end]\n",
    "            if \"|\" in cleaned: \n",
    "                slice_end=cleaned.rfind('|')\n",
    "                cleaned=cleaned[:slice_end]\n",
    "            if re.search(' .,', cleaned) != None: \n",
    "                # for ADAM C, SMITH cases \n",
    "                pos=re.search(r' .,', cleaned).end()\n",
    "                cleaned= cleaned[:pos-1] + \".\" + cleaned[pos+1:]\n",
    "            if \"Times Senior Correspondent\" in cleaned:\n",
    "                slice_end=cleaned.rfind(',')\n",
    "                cleaned=cleaned[:slice_end]\n",
    "            cleaned=cleaned.replace(',,', ',')\n",
    "            if cleaned.startswith(\",\"):\n",
    "                cleaned=cleaned[1:] \n",
    "            if cleaned.startswith(\", \"):\n",
    "                cleaned=cleaned[2:]\n",
    "            if cleaned.endswith(','):\n",
    "                cleaned=cleaned[:-1]\n",
    "            if cleaned.endswith(\", \"):\n",
    "                cleaned=cleaned[:-2]\n",
    "                \n",
    "\n",
    "\n",
    "        return cleaned \n",
    "    else:  \n",
    "        return None\n",
    "        \n",
    "\n",
    "# def strip_string(str): \n",
    "#     if str != None: \n",
    "#         for string_to_strip in string)\n",
    "#             if \"CRITIC\" in str: \n",
    "                \n",
    "#                 if cleaned.endswith('CRITIC'): \n",
    "#                     slice_end=cleaned.rfind(',')\n",
    "#                     cleaned=cleaned[:slice_end]\n",
    "#                 else:\n",
    "#                     print(cleaned)\n",
    "#                     label_end=cleaned.rfind('CRITIC')\n",
    "#                     slice_a=cleaned[:label_end]\n",
    "#                     print(slice_a)\n",
    "#                     slice_a_end=slice_a.rfind(',')\n",
    "#                     slice_a_result=cleaned[:slice_a_end]\n",
    "#                     slice_b=cleaned[label_end+7:]\n",
    "#                     cleaned=slice_a_result + slice_b\n",
    "#                     print(cleaned)\n",
    "    "
   ]
  },
  {
   "cell_type": "markdown",
   "metadata": {
    "collapsed": false,
    "scrolled": false
   },
   "source": [
    "Apply function to each row of data and write to csv"
   ]
  },
  {
   "cell_type": "code",
   "execution_count": 111,
   "metadata": {
    "collapsed": false,
    "scrolled": true
   },
   "outputs": [],
   "source": [
    "clean_byline_computation = agate.Formula(agate.Text(), cleanByline)\n",
    "with_cleaned_byline = original_data.compute([\n",
    "    (\"cleaned_byline\", clean_byline_computation)\n",
    "])"
   ]
  },
  {
   "cell_type": "code",
   "execution_count": 112,
   "metadata": {
    "collapsed": false
   },
   "outputs": [],
   "source": [
    "# with_cleaned_byline.select('cleaned_byline').print_table()"
   ]
  },
  {
   "cell_type": "code",
   "execution_count": 113,
   "metadata": {
    "collapsed": true
   },
   "outputs": [],
   "source": [
    "with_cleaned_byline.to_csv(\"cleaned.csv\")"
   ]
  },
  {
   "cell_type": "code",
   "execution_count": null,
   "metadata": {
    "collapsed": true
   },
   "outputs": [],
   "source": []
  }
 ],
 "metadata": {
  "kernelspec": {
   "display_name": "Python 3",
   "language": "python",
   "name": "python3"
  },
  "language_info": {
   "codemirror_mode": {
    "name": "ipython",
    "version": 3
   },
   "file_extension": ".py",
   "mimetype": "text/x-python",
   "name": "python",
   "nbconvert_exporter": "python",
   "pygments_lexer": "ipython3",
   "version": "3.6.0"
  }
 },
 "nbformat": 4,
 "nbformat_minor": 2
}
