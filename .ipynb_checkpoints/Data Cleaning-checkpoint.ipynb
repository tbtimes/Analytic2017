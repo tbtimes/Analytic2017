{
 "cells": [
  {
   "cell_type": "code",
   "execution_count": 2,
   "metadata": {
    "collapsed": false
   },
   "outputs": [],
   "source": [
    "import agate\n",
    "import agateexcel\n",
    "# import agate as csv\n",
    "\n",
    "# import pandas as pd"
   ]
  },
  {
   "cell_type": "code",
   "execution_count": 3,
   "metadata": {
    "collapsed": false
   },
   "outputs": [],
   "source": [
    "original_data=agate.Table.from_csv(\"Hits_PublishDate_Joined_pivoted.csv\",encoding = \"ISO-8859-1\")\n",
    "# pd.read_csv(\"Hits_PublishDate_Joined_pivoted.csv\")"
   ]
  },
  {
   "cell_type": "code",
   "execution_count": 4,
   "metadata": {
    "collapsed": false
   },
   "outputs": [
    {
     "name": "stdout",
     "output_type": "stream",
     "text": [
      "| column        | data_type |\n",
      "| ------------- | --------- |\n",
      "| dcrType       | Text      |\n",
      "| article_id    | Number    |\n",
      "| byline        | Text      |\n",
      "| seo_url       | Text      |\n",
      "| sectionPath   | Text      |\n",
      "| storyKeywords | Text      |\n",
      "| blogType      | Text      |\n",
      "| webHeadline   | Text      |\n",
      "| publishDate   | DateTime  |\n",
      "| pageView      | Number    |\n",
      "\n",
      "69\n"
     ]
    }
   ],
   "source": [
    "print(original_data)\n",
    "print(original_data.rows[0][9])"
   ]
  },
  {
   "cell_type": "code",
   "execution_count": 5,
   "metadata": {
    "collapsed": true
   },
   "outputs": [],
   "source": [
    "original_byline=original_data.columns['byline']"
   ]
  },
  {
   "cell_type": "code",
   "execution_count": 6,
   "metadata": {
    "collapsed": false
   },
   "outputs": [
    {
     "name": "stdout",
     "output_type": "stream",
     "text": [
      "Joey Knight\n",
      "58332\n"
     ]
    }
   ],
   "source": [
    "print(original_byline[0])\n",
    "print(len(original_byline))"
   ]
  },
  {
   "cell_type": "code",
   "execution_count": 58,
   "metadata": {
    "collapsed": false
   },
   "outputs": [],
   "source": [
    "def cleanByline(row):\n",
    "   \n",
    "        if row['byline'] != None:\n",
    "            upper_case_string=row['byline'].upper()\n",
    "            cleaned=upper_case_string.replace('BY ', '')\n",
    "            cleaned=cleaned.replace('<P></P>', ',')\n",
    "            cleaned=cleaned.replace('<BR /><BR />', ',')\n",
    "            cleaned=cleaned.replace(', TIMES STAFF WRITERS', '')\n",
    "            cleaned=cleaned.replace(', STAFF PHOTOGRAPHER', '')\n",
    "            cleaned=cleaned.replace(', TIMES STAFF WRITER', '')\n",
    "            cleaned=cleaned.replace(', TAMPA BAY TIMES', '')\n",
    "            cleaned=cleaned.replace(', SPECIAL TO THE TIMES', '')\n",
    "            cleaned=cleaned.replace('SPECIAL TO THE TIMES', '')\n",
    "            cleaned=cleaned.replace(', SPECIAL TO THE TAMPA BAY TIMES', '')\n",
    "            cleaned=cleaned.replace(', TIMES ARTS, ENTERTAINMENT EDITOR', '')\n",
    "            cleaned=cleaned.replace(', TIMES POP MUSIC/CULTURE CRITIC', '')\n",
    "            cleaned=cleaned.replace(' AND', ',')\n",
    "            if (\"TNS\" in cleaned) or (\"LOS ANGELES TIMES\" in cleaned) or (\"WASHINGTON POST\" in cleaned) or (\"ORLANDO SENTINEL\" in cleaned) or (\"SLATE.COM\" in cleaned) or (\"KAISER HEALTH NEWS\" in cleaned) or (\"WASHINGTON POST\" in cleaned) or (\"ASSOCIATED PRESS\" in cleaned) or (\"MIAMI HERALD\" in cleaned) or (\"NEW YORK TIMES\" in cleaned) or (\"WIRES\" in cleaned): \n",
    "                cleaned = None\n",
    "            if cleaned != None: \n",
    "                if \"BUREAU\" in cleaned: \n",
    "                    slice_end=cleaned.rfind(',')\n",
    "                    cleaned=cleaned[:slice_end]\n",
    "                if \"CRITIC\" in cleaned: \n",
    "                    slice_end=cleaned.rfind(',')\n",
    "                    cleaned=cleaned[:slice_end]\n",
    "                if \"COLUMNIST\" in cleaned: \n",
    "                    slice_end=cleaned.rfind(',')\n",
    "                    cleaned=cleaned[:slice_end]\n",
    "                if \"CORRESP\" in cleaned:  \n",
    "                    #NOT SPELLING THE WHOLE WORD OUT CUZ SOME WORDS IN FILE ARE MISSPELLED               \n",
    "                    slice_end=cleaned.rfind(',')\n",
    "                    cleaned=cleaned[:slice_end]\n",
    "                if \"EDITOR\" in cleaned: \n",
    "                    slice_end=cleaned.rfind(',')\n",
    "                    cleaned=cleaned[:slice_end]\n",
    "                if \"TBT\" in cleaned: \n",
    "                    slice_end=cleaned.rfind(',')\n",
    "                    cleaned=cleaned[:slice_end]\n",
    "                cleaned=cleaned.replace(',,', ',')\n",
    "            \n",
    "            \n",
    "            return cleaned \n",
    "        else:  \n",
    "            return None\n",
    "        \n",
    "    "
   ]
  },
  {
   "cell_type": "code",
   "execution_count": 59,
   "metadata": {
    "collapsed": false,
    "scrolled": false
   },
   "outputs": [],
   "source": [
    "clean_byline_computation = agate.Formula(agate.Text(), cleanByline)\n",
    "with_cleaned_byline = original_data.compute([\n",
    "    (\"cleaned_byline\", clean_byline_computation)\n",
    "])"
   ]
  },
  {
   "cell_type": "code",
   "execution_count": 60,
   "metadata": {
    "collapsed": false
   },
   "outputs": [
    {
     "name": "stdout",
     "output_type": "stream",
     "text": [
      "| cleaned_byline |\n",
      "| -------------- |\n",
      "| JOEY KNIGHT    |\n",
      "| JOEY KNIGHT    |\n",
      "| JOEY KNIGHT    |\n",
      "| JOEY KNIGHT    |\n",
      "| JOEY KNIGHT    |\n",
      "| JOEY KNIGHT    |\n",
      "| JOEY KNIGHT    |\n",
      "| JOEY KNIGHT    |\n",
      "| JOEY KNIGHT    |\n",
      "| JOEY KNIGHT    |\n",
      "| JOEY KNIGHT    |\n",
      "| JOEY KNIGHT    |\n",
      "| JOEY KNIGHT    |\n",
      "| JOEY KNIGHT    |\n",
      "| JOEY KNIGHT    |\n",
      "| JOEY KNIGHT    |\n",
      "| JOEY KNIGHT    |\n",
      "| JOEY KNIGHT    |\n",
      "| JOEY KNIGHT    |\n",
      "| JOEY KNIGHT    |\n",
      "| ...            |\n"
     ]
    }
   ],
   "source": [
    "with_cleaned_byline.select('cleaned_byline').print_table()"
   ]
  },
  {
   "cell_type": "code",
   "execution_count": 61,
   "metadata": {
    "collapsed": true
   },
   "outputs": [],
   "source": [
    "with_cleaned_byline.to_csv(\"test.csv\")"
   ]
  },
  {
   "cell_type": "code",
   "execution_count": null,
   "metadata": {
    "collapsed": true
   },
   "outputs": [],
   "source": []
  }
 ],
 "metadata": {
  "kernelspec": {
   "display_name": "Python 3",
   "language": "python",
   "name": "python3"
  },
  "language_info": {
   "codemirror_mode": {
    "name": "ipython",
    "version": 3
   },
   "file_extension": ".py",
   "mimetype": "text/x-python",
   "name": "python",
   "nbconvert_exporter": "python",
   "pygments_lexer": "ipython3",
   "version": "3.6.0"
  }
 },
 "nbformat": 4,
 "nbformat_minor": 2
}
