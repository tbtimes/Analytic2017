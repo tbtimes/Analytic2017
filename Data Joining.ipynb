{
 "cells": [
  {
   "cell_type": "code",
   "execution_count": 15,
   "metadata": {
    "collapsed": false
   },
   "outputs": [],
   "source": [
    "import agate\n",
    "import agateexcel\n"
   ]
  },
  {
   "cell_type": "code",
   "execution_count": 16,
   "metadata": {
    "collapsed": true
   },
   "outputs": [],
   "source": [
    "# Get Hits Data"
   ]
  },
  {
   "cell_type": "code",
   "execution_count": 32,
   "metadata": {
    "collapsed": false,
    "scrolled": false
   },
   "outputs": [],
   "source": [
    "all_hits_data=agate.TableSet.from_csv(\"pageviews-1-16-to-6-17\")"
   ]
  },
  {
   "cell_type": "code",
   "execution_count": 33,
   "metadata": {
    "collapsed": false
   },
   "outputs": [],
   "source": [
    "all_hits_merged=all_hits_data.merge()"
   ]
  },
  {
   "cell_type": "code",
   "execution_count": null,
   "metadata": {
    "collapsed": true
   },
   "outputs": [],
   "source": []
  },
  {
   "cell_type": "code",
   "execution_count": 34,
   "metadata": {
    "collapsed": false
   },
   "outputs": [
    {
     "name": "stdout",
     "output_type": "stream",
     "text": [
      "| column     | data_type |\n",
      "| ---------- | --------- |\n",
      "| group      | Text      |\n",
      "| url        | Text      |\n",
      "| views      | Number    |\n",
      "| article_id | Number    |\n",
      "| seo_url    | Text      |\n",
      "\n"
     ]
    }
   ],
   "source": [
    "print(all_hits_merged)"
   ]
  },
  {
   "cell_type": "code",
   "execution_count": 35,
   "metadata": {
    "collapsed": true
   },
   "outputs": [],
   "source": [
    "# Get Publishing Date, Byline data"
   ]
  },
  {
   "cell_type": "code",
   "execution_count": 60,
   "metadata": {
    "collapsed": false
   },
   "outputs": [],
   "source": [
    "publishing_data=agate.Table.from_xlsx('SOLRDataRaw-from-another-system-link-0815.xlsx')"
   ]
  },
  {
   "cell_type": "code",
   "execution_count": 61,
   "metadata": {
    "collapsed": false
   },
   "outputs": [
    {
     "name": "stdout",
     "output_type": "stream",
     "text": [
      "| column       | data_type |\n",
      "| ------------ | --------- |\n",
      "| articleType  | Text      |\n",
      "| article_id   | Number    |\n",
      "| byline       | Text      |\n",
      "| seo_url      | Text      |\n",
      "| sectionPath  | Text      |\n",
      "| collatedTags | Text      |\n",
      "| blogType     | Text      |\n",
      "| webHeadline  | Text      |\n",
      "| publishDate  | DateTime  |\n",
      "| lastModified | DateTime  |\n",
      "\n"
     ]
    }
   ],
   "source": [
    "print(publishing_data)"
   ]
  },
  {
   "cell_type": "code",
   "execution_count": 38,
   "metadata": {
    "collapsed": false
   },
   "outputs": [],
   "source": [
    "# joined_data=publishing_data.join(all_hits_merged, left_key=\"article_id\", inner=True)"
   ]
  },
  {
   "cell_type": "code",
   "execution_count": 39,
   "metadata": {
    "collapsed": false
   },
   "outputs": [],
   "source": [
    "# print(joined_data)"
   ]
  },
  {
   "cell_type": "code",
   "execution_count": 40,
   "metadata": {
    "collapsed": true
   },
   "outputs": [],
   "source": [
    "# joined_data.to_csv(\"Hits_PublishDate_Joined.csv\")"
   ]
  },
  {
   "cell_type": "code",
   "execution_count": 41,
   "metadata": {
    "collapsed": true
   },
   "outputs": [],
   "source": [
    "# Pivot the Hits data and then join the two again"
   ]
  },
  {
   "cell_type": "code",
   "execution_count": 72,
   "metadata": {
    "collapsed": false
   },
   "outputs": [],
   "source": [
    "hits_pivoted_by_id=all_hits_merged.pivot(key=\"article_id\",aggregation=agate.Sum(\"views\"))"
   ]
  },
  {
   "cell_type": "code",
   "execution_count": 73,
   "metadata": {
    "collapsed": false
   },
   "outputs": [
    {
     "name": "stdout",
     "output_type": "stream",
     "text": [
      "| column     | data_type |\n",
      "| ---------- | --------- |\n",
      "| article_id | Number    |\n",
      "| Sum        | Number    |\n",
      "\n"
     ]
    }
   ],
   "source": [
    "print(hits_pivoted_by_id)"
   ]
  },
  {
   "cell_type": "code",
   "execution_count": 91,
   "metadata": {
    "collapsed": false,
    "scrolled": true
   },
   "outputs": [
    {
     "name": "stdout",
     "output_type": "stream",
     "text": [
      "91714116\n",
      "| column       | data_type |\n",
      "| ------------ | --------- |\n",
      "| articleType  | Text      |\n",
      "| article_id   | Number    |\n",
      "| byline       | Text      |\n",
      "| seo_url      | Text      |\n",
      "| sectionPath  | Text      |\n",
      "| collatedTags | Text      |\n",
      "| blogType     | Text      |\n",
      "| webHeadline  | Text      |\n",
      "| publishDate  | DateTime  |\n",
      "| lastModified | DateTime  |\n",
      "| Sum          | Number    |\n",
      "\n"
     ]
    }
   ],
   "source": [
    "joined_by_id=publishing_data.join(hits_pivoted_by_id, left_key=\"article_id\", inner=True)\n",
    "\n",
    "print(joined_by_id.aggregate(agate.Sum('Sum')))\n",
    "print(joined_by_id)"
   ]
  },
  {
   "cell_type": "code",
   "execution_count": 45,
   "metadata": {
    "collapsed": true
   },
   "outputs": [],
   "source": [
    "joined_data.to_csv(\"Joined_0815.csv\")"
   ]
  },
  {
   "cell_type": "code",
   "execution_count": 80,
   "metadata": {
    "collapsed": true
   },
   "outputs": [],
   "source": [
    "total_hits=all_hits_merged.aggregate(agate.Sum('views'))\n",
    "total_hits_after_joined=hits_pivoted.aggregate(agate.Sum('Sum'))\n"
   ]
  },
  {
   "cell_type": "code",
   "execution_count": null,
   "metadata": {
    "collapsed": true
   },
   "outputs": [],
   "source": []
  },
  {
   "cell_type": "code",
   "execution_count": 89,
   "metadata": {
    "collapsed": false
   },
   "outputs": [],
   "source": [
    "articles_without_id = hits_pivoted.where( lambda row:   row['article_id'] != None )\n",
    "without_id_hits = articles_without_id.aggregate(agate.Sum('Sum'))"
   ]
  },
  {
   "cell_type": "code",
   "execution_count": 90,
   "metadata": {
    "collapsed": false
   },
   "outputs": [
    {
     "name": "stdout",
     "output_type": "stream",
     "text": [
      "113138998\n"
     ]
    }
   ],
   "source": [
    "print(without_id_hits)"
   ]
  },
  {
   "cell_type": "code",
   "execution_count": null,
   "metadata": {
    "collapsed": true
   },
   "outputs": [],
   "source": []
  },
  {
   "cell_type": "code",
   "execution_count": null,
   "metadata": {
    "collapsed": false
   },
   "outputs": [],
   "source": [
    "# validate data -- see if all views added up can be compared with number in CB or Ga"
   ]
  },
  {
   "cell_type": "code",
   "execution_count": 53,
   "metadata": {
    "collapsed": false
   },
   "outputs": [],
   "source": [
    "# total_hits=all_hits_merged.aggregate(agate.Sum('views'))\n",
    "# total_hits_after_joined=hits_pivoted.aggregate(agate.Sum('Sum'))"
   ]
  },
  {
   "cell_type": "code",
   "execution_count": 54,
   "metadata": {
    "collapsed": false
   },
   "outputs": [
    {
     "name": "stdout",
     "output_type": "stream",
     "text": [
      "190011869 190011869\n"
     ]
    }
   ],
   "source": [
    "# print(total_hits,total_hits_after_joined )"
   ]
  },
  {
   "cell_type": "code",
   "execution_count": 70,
   "metadata": {
    "collapsed": false
   },
   "outputs": [
    {
     "name": "stdout",
     "output_type": "stream",
     "text": [
      "| column  | data_type |\n",
      "| ------- | --------- |\n",
      "| seo_url | Text      |\n",
      "| Sum     | Number    |\n",
      "\n"
     ]
    }
   ],
   "source": [
    "# hits_pivoted_by_seo=all_hits_merged.pivot(key=\"seo_url\",aggregation=agate.Sum(\"views\"))\n",
    "print(hits_pivoted_by_seo)\n"
   ]
  },
  {
   "cell_type": "code",
   "execution_count": 71,
   "metadata": {
    "collapsed": false
   },
   "outputs": [
    {
     "name": "stdout",
     "output_type": "stream",
     "text": [
      "190011869\n"
     ]
    }
   ],
   "source": [
    "# print(hits_pivoted_by_seo.aggregate(agate.Sum('Sum')))"
   ]
  },
  {
   "cell_type": "code",
   "execution_count": 79,
   "metadata": {
    "collapsed": false
   },
   "outputs": [
    {
     "name": "stdout",
     "output_type": "stream",
     "text": [
      "269432834\n"
     ]
    }
   ],
   "source": [
    "# joined_by_seo=publishing_data.join(hits_pivoted_by_seo, left_key=\"seo_url\", inner=True)\n",
    "# total_hits_after_joined_by_seo = joined_by_seo.aggregate(agate.Sum('Sum'))\n",
    "# joined_by_seo.to_csv(\"Joined by seo.csv\")\n",
    "# print(total_hits_after_joined_by_seo)"
   ]
  },
  {
   "cell_type": "code",
   "execution_count": null,
   "metadata": {
    "collapsed": true
   },
   "outputs": [],
   "source": []
  }
 ],
 "metadata": {
  "kernelspec": {
   "display_name": "Python 3",
   "language": "python",
   "name": "python3"
  },
  "language_info": {
   "codemirror_mode": {
    "name": "ipython",
    "version": 3
   },
   "file_extension": ".py",
   "mimetype": "text/x-python",
   "name": "python",
   "nbconvert_exporter": "python",
   "pygments_lexer": "ipython3",
   "version": "3.6.0"
  }
 },
 "nbformat": 4,
 "nbformat_minor": 2
}
