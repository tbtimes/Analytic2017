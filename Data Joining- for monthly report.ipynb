{
 "cells": [
  {
   "cell_type": "code",
   "execution_count": 50,
   "metadata": {
    "collapsed": false
   },
   "outputs": [],
   "source": [
    "import agate\n",
    "import agateexcel\n"
   ]
  },
  {
   "cell_type": "code",
   "execution_count": 51,
   "metadata": {
    "collapsed": true
   },
   "outputs": [],
   "source": [
    "# Get Hits Data"
   ]
  },
  {
   "cell_type": "code",
   "execution_count": 78,
   "metadata": {
    "collapsed": false,
    "scrolled": false
   },
   "outputs": [],
   "source": [
    "all_hits_data=agate.Table.from_csv(\"pageviews-1-16-to-6-17/1706.csv\")"
   ]
  },
  {
   "cell_type": "code",
   "execution_count": null,
   "metadata": {
    "collapsed": false
   },
   "outputs": [],
   "source": []
  },
  {
   "cell_type": "code",
   "execution_count": null,
   "metadata": {
    "collapsed": true
   },
   "outputs": [],
   "source": []
  },
  {
   "cell_type": "code",
   "execution_count": 79,
   "metadata": {
    "collapsed": false
   },
   "outputs": [
    {
     "name": "stdout",
     "output_type": "stream",
     "text": [
      "| column     | data_type |\n",
      "| ---------- | --------- |\n",
      "| url        | Text      |\n",
      "| views      | Number    |\n",
      "| article_id | Number    |\n",
      "| seo_url    | Text      |\n",
      "\n"
     ]
    }
   ],
   "source": [
    "print(all_hits_data)"
   ]
  },
  {
   "cell_type": "code",
   "execution_count": 80,
   "metadata": {
    "collapsed": true
   },
   "outputs": [],
   "source": [
    "# Get Publishing Date, Byline data"
   ]
  },
  {
   "cell_type": "code",
   "execution_count": 81,
   "metadata": {
    "collapsed": false
   },
   "outputs": [],
   "source": [
    "publishing_data=agate.Table.from_xlsx('SOLRDataRaw-from-another-system-link-0815.xlsx')"
   ]
  },
  {
   "cell_type": "code",
   "execution_count": 82,
   "metadata": {
    "collapsed": false
   },
   "outputs": [
    {
     "name": "stdout",
     "output_type": "stream",
     "text": [
      "| column       | data_type |\n",
      "| ------------ | --------- |\n",
      "| articleType  | Text      |\n",
      "| article_id   | Number    |\n",
      "| byline       | Text      |\n",
      "| seo_url      | Text      |\n",
      "| sectionPath  | Text      |\n",
      "| collatedTags | Text      |\n",
      "| blogType     | Text      |\n",
      "| webHeadline  | Text      |\n",
      "| publishDate  | DateTime  |\n",
      "| lastModified | DateTime  |\n",
      "\n"
     ]
    }
   ],
   "source": [
    "print(publishing_data)"
   ]
  },
  {
   "cell_type": "code",
   "execution_count": 83,
   "metadata": {
    "collapsed": false
   },
   "outputs": [],
   "source": [
    "# joined_data=publishing_data.join(all_hits_merged, left_key=\"article_id\", inner=True)"
   ]
  },
  {
   "cell_type": "code",
   "execution_count": 84,
   "metadata": {
    "collapsed": false
   },
   "outputs": [],
   "source": [
    "# print(joined_data)"
   ]
  },
  {
   "cell_type": "code",
   "execution_count": 85,
   "metadata": {
    "collapsed": true
   },
   "outputs": [],
   "source": [
    "# joined_data.to_csv(\"Hits_PublishDate_Joined.csv\")"
   ]
  },
  {
   "cell_type": "code",
   "execution_count": 86,
   "metadata": {
    "collapsed": true
   },
   "outputs": [],
   "source": [
    "# Pivot the Hits data and then join the two again"
   ]
  },
  {
   "cell_type": "code",
   "execution_count": 87,
   "metadata": {
    "collapsed": false
   },
   "outputs": [],
   "source": [
    "hits_pivoted_by_id=all_hits_data.pivot(key=\"article_id\",aggregation=agate.Sum(\"views\"))"
   ]
  },
  {
   "cell_type": "code",
   "execution_count": 88,
   "metadata": {
    "collapsed": false
   },
   "outputs": [
    {
     "name": "stdout",
     "output_type": "stream",
     "text": [
      "| column     | data_type |\n",
      "| ---------- | --------- |\n",
      "| article_id | Number    |\n",
      "| Sum        | Number    |\n",
      "\n"
     ]
    }
   ],
   "source": [
    "print(hits_pivoted_by_id)"
   ]
  },
  {
   "cell_type": "code",
   "execution_count": 89,
   "metadata": {
    "collapsed": false,
    "scrolled": true
   },
   "outputs": [
    {
     "name": "stdout",
     "output_type": "stream",
     "text": [
      "5729233\n",
      "| column       | data_type |\n",
      "| ------------ | --------- |\n",
      "| articleType  | Text      |\n",
      "| article_id   | Number    |\n",
      "| byline       | Text      |\n",
      "| seo_url      | Text      |\n",
      "| sectionPath  | Text      |\n",
      "| collatedTags | Text      |\n",
      "| blogType     | Text      |\n",
      "| webHeadline  | Text      |\n",
      "| publishDate  | DateTime  |\n",
      "| lastModified | DateTime  |\n",
      "| Sum          | Number    |\n",
      "\n"
     ]
    }
   ],
   "source": [
    "joined_by_id=publishing_data.join(hits_pivoted_by_id, left_key=\"article_id\", inner=True)\n",
    "\n",
    "print(joined_by_id.aggregate(agate.Sum('Sum')))\n",
    "print(joined_by_id)"
   ]
  },
  {
   "cell_type": "code",
   "execution_count": 90,
   "metadata": {
    "collapsed": false
   },
   "outputs": [],
   "source": [
    "joined_by_id.to_csv(\"Joined_Monthly1706.csv\")"
   ]
  },
  {
   "cell_type": "code",
   "execution_count": null,
   "metadata": {
    "collapsed": true
   },
   "outputs": [],
   "source": []
  },
  {
   "cell_type": "code",
   "execution_count": null,
   "metadata": {
    "collapsed": true
   },
   "outputs": [],
   "source": []
  }
 ],
 "metadata": {
  "kernelspec": {
   "display_name": "Python 3",
   "language": "python",
   "name": "python3"
  },
  "language_info": {
   "codemirror_mode": {
    "name": "ipython",
    "version": 3
   },
   "file_extension": ".py",
   "mimetype": "text/x-python",
   "name": "python",
   "nbconvert_exporter": "python",
   "pygments_lexer": "ipython3",
   "version": "3.6.0"
  }
 },
 "nbformat": 4,
 "nbformat_minor": 2
}
